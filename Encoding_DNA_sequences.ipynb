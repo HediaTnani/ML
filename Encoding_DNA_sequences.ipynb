{
 "cells": [
  {
   "cell_type": "markdown",
   "metadata": {},
   "source": [
    "# Preprocessing DNA sequences for ML"
   ]
  },
  {
   "cell_type": "markdown",
   "metadata": {},
   "source": [
    "In computational biology, many computational biologists work with DNA/RNA sequence data daily. DNA/RNA sequence data are usually contained in a file format called \"fasta\" format. Each sequence data consists in a sequence of four nucleotide types {A,C,G,U} in a FASTA format:\n",
    ">information about the sequence\n",
    "ATGTTTCGCATCACCAACATTGAGTTTCTTCCCGAATACCGACAAAAGGAGTCCAGGGAA\n",
    "\n",
    "\n",
    "\n",
    "How can we use these sequences for machine or deep learning? \n",
    "The first preprocessing step is to encode the data so it can be used by different ML algorithms.\n",
    "\n",
    "There are 3 general approaches for this:\n",
    "*  1.Label-encoding \n",
    "*  2.One-hot encoding \n",
    "*  3.Using various \"language\" processing methods\n"
   ]
  },
  {
   "cell_type": "markdown",
   "metadata": {},
   "source": [
    "## 1. Label-encoding"
   ]
  },
  {
   "cell_type": "markdown",
   "metadata": {},
   "source": [
    "This approach is very simple and it involves converting each value in a column to a number.\n",
    "\n",
    "For DNA it's encoding each nucleotide characters as an ordinal values. For example “ACGT” becomes [0, 1, 2, 3]. N is encoded as [4]. Let's see an example:"
   ]
  },
  {
   "cell_type": "code",
   "execution_count": 36,
   "metadata": {},
   "outputs": [
    {
     "name": "stdout",
     "output_type": "stream",
     "text": [
      "['a' 't' 'g' 't' 'g' 't' 'c' 'g' 't' 'a' 'g' 't' 'c' 'g' 't' 'a' 'c' 'g'\n",
      " 'z' 'z']\n",
      "LabelEncoder()\n"
     ]
    }
   ],
   "source": [
    "# EXAMPLE\n",
    "fasta = \">test_sequence\\nATGTGTCGTAGTCGTACGNN\"\n",
    "# load the required librairies\n",
    "import numpy as np\n",
    "from numpy import array\n",
    "from numpy import argmax\n",
    "from sklearn.preprocessing import LabelEncoder\n",
    "import re\n",
    "\n",
    "#check for and grab sequence name\n",
    "if re.search(\">\",fasta):\n",
    "   name = re.split(\"\\n\",fasta)[0]\n",
    "   sequence = re.split(\"\\n\",fasta)[1]\n",
    "else :\n",
    "   name = 'unknown_sequence'\n",
    "   sequence = fasta\n",
    "sequence = sequence.lower()  \n",
    "#get sequence into an array\n",
    "sequence = re.sub('[^acgt]', 'z', sequence)\n",
    "seq_array = np.array(list(sequence))\n",
    "print(seq_array)\n",
    "#integer encode the sequence\n",
    "label_encoder = LabelEncoder()\n",
    "integer_encoded_seq = label_encoder.fit(np.array(['a','c','g','t','z']))\n",
    "print(integer_encoded_seq)"
   ]
  },
  {
   "cell_type": "markdown",
   "metadata": {},
   "source": [
    "And here is a function to encode a DNA sequence string as an ordinal vector. It returns a numpy array with a=0.25, c=0.50, g=0.75, t=1.00, n=0.00."
   ]
  },
  {
   "cell_type": "code",
   "execution_count": 37,
   "metadata": {},
   "outputs": [],
   "source": [
    "# function to encode a DNA sequence string as an ordinal vector\n",
    "# returns a numpy vector with a=0.25, c=0.50, g=0.75, t=1.00, n=0.00\n",
    "def ordinalEncoder(dna_array):\n",
    "    integer_encoded_seq=label_encoder.transform(seq_array)\n",
    "    print(integer_encoded_seq)\n",
    "    float_encoded = integer_encoded_seq.astype(float)\n",
    "    float_encoded[float_encoded == 0] = 0.25 # A\n",
    "    float_encoded[float_encoded == 1] = 0.50 # C\n",
    "    float_encoded[float_encoded == 2] = 0.75 # G\n",
    "    float_encoded[float_encoded == 3] = 1.00 # T\n",
    "    float_encoded[float_encoded == 4] = 0.00 # anything else, z\n",
    "    return float_encoded"
   ]
  },
  {
   "cell_type": "code",
   "execution_count": 38,
   "metadata": {},
   "outputs": [
    {
     "name": "stdout",
     "output_type": "stream",
     "text": [
      "[0 3 2 3 2 3 1 2 3 0 2 3 1 2 3 0 1 2 4 4]\n"
     ]
    },
    {
     "data": {
      "text/plain": [
       "array([0.25, 1.  , 0.75, 1.  , 0.75, 1.  , 0.5 , 0.75, 1.  , 0.25, 0.75,\n",
       "       1.  , 0.5 , 0.75, 1.  , 0.25, 0.5 , 0.75, 0.  , 0.  ])"
      ]
     },
     "execution_count": 38,
     "metadata": {},
     "output_type": "execute_result"
    }
   ],
   "source": [
    "ordinalEncoder(test_sequence)"
   ]
  },
  {
   "cell_type": "markdown",
   "metadata": {},
   "source": [
    "## 2. One-hot encoding"
   ]
  },
  {
   "cell_type": "markdown",
   "metadata": {},
   "source": [
    "One hot encoding is a way to represent categorical data as binary vectors. For DNA, we have four catagories A, T, G, and C. For RNA, the four catagories are A, U, G, and C.\n",
    "\n",
    "Then, each nucleotide value is represented as a binary vector that is all zero values except the index of the nucleotide, which is marked with a 1.\n",
    "\n",
    "Thus a one hot code for DNA could be:\n",
    "A = [1, 0, 0, 0]\n",
    "T = [0, 1, 0, 0]\n",
    "G = [0, 0, 1, 0]\n",
    "C = [0, 0, 0, 1]\n",
    "\n",
    "So the sequence AATTC would be:\n",
    "[[1, 0, 0, 0],\n",
    "[1, 0, 0, 0],\n",
    "[0, 1, 0, 0],\n",
    "[0, 1, 0, 0],\n",
    "[0, 0, 0, 1]]\n",
    "\n",
    "\n",
    "In the same logic a one hot code for DNA could be:\n",
    "A = [1, 0, 0, 0]\n",
    "U = [0, 1, 0, 0]\n",
    "G = [0, 0, 1, 0]\n",
    "C = [0, 0, 0, 1]\n",
    "\n",
    "So the sequence AAUUC would be:\n",
    "[[1, 0, 0, 0],\n",
    "[1, 0, 0, 0],\n",
    "[0, 1, 0, 0],\n",
    "[0, 1, 0, 0],\n",
    "[0, 0, 0, 1]]"
   ]
  },
  {
   "cell_type": "code",
   "execution_count": 4,
   "metadata": {},
   "outputs": [
    {
     "data": {
      "text/plain": [
       "array([[1., 0., 0., 0.],\n",
       "       [1., 0., 0., 0.],\n",
       "       [0., 1., 0., 0.],\n",
       "       [0., 0., 1., 0.],\n",
       "       [0., 0., 0., 1.],\n",
       "       [1., 0., 0., 0.],\n",
       "       [0., 1., 0., 0.],\n",
       "       [0., 0., 1., 0.],\n",
       "       [0., 0., 0., 1.],\n",
       "       [0., 0., 1., 0.],\n",
       "       [0., 1., 0., 0.],\n",
       "       [0., 0., 1., 0.],\n",
       "       [0., 0., 0., 1.],\n",
       "       [1., 0., 0., 0.],\n",
       "       [1., 0., 0., 0.],\n",
       "       [0., 0., 0., 1.],\n",
       "       [0., 0., 1., 0.],\n",
       "       [0., 1., 0., 0.]])"
      ]
     },
     "execution_count": 4,
     "metadata": {},
     "output_type": "execute_result"
    }
   ],
   "source": [
    "# one hot encode function for DNA\n",
    "import numpy as np\n",
    "def one_hot_encodedna(seq):\n",
    "    mapping = dict(zip(\"ACGT\", range(4)))    \n",
    "    seq2 = [mapping[i] for i in seq]\n",
    "    return np.eye(4)[seq2]\n",
    "\n",
    "one_hot_encodedna(\"AACGTACGTGCGTAATGC\")"
   ]
  },
  {
   "cell_type": "code",
   "execution_count": 6,
   "metadata": {},
   "outputs": [
    {
     "data": {
      "text/plain": [
       "array([[1., 0., 0., 0.],\n",
       "       [1., 0., 0., 0.],\n",
       "       [0., 1., 0., 0.],\n",
       "       [0., 0., 1., 0.],\n",
       "       [0., 0., 0., 1.],\n",
       "       [1., 0., 0., 0.],\n",
       "       [0., 1., 0., 0.],\n",
       "       [0., 0., 1., 0.],\n",
       "       [0., 0., 0., 1.],\n",
       "       [0., 0., 1., 0.],\n",
       "       [0., 1., 0., 0.],\n",
       "       [0., 0., 1., 0.],\n",
       "       [0., 0., 0., 1.],\n",
       "       [1., 0., 0., 0.],\n",
       "       [1., 0., 0., 0.],\n",
       "       [0., 0., 0., 1.],\n",
       "       [0., 0., 1., 0.],\n",
       "       [0., 1., 0., 0.]])"
      ]
     },
     "execution_count": 6,
     "metadata": {},
     "output_type": "execute_result"
    }
   ],
   "source": [
    "# one hot encode function for RNA\n",
    "import numpy as np\n",
    "def one_hot_encodeRna(seq):\n",
    "    mapping = dict(zip(\"ACGU\", range(4)))    \n",
    "    seq2 = [mapping[i] for i in seq]\n",
    "    return np.eye(4)[seq2]\n",
    "\n",
    "one_hot_encodeRna(\"AACGUACGUGCGUAAUGC\")"
   ]
  },
  {
   "cell_type": "markdown",
   "metadata": {},
   "source": [
    "# REFERENCES\n",
    "https://www.biorxiv.org/content/10.1101/186965v1\n",
    "\n",
    "\n",
    "https://machinelearningmastery.com/how-to-one-hot-encode-sequence-data-in-python/"
   ]
  },
  {
   "cell_type": "code",
   "execution_count": null,
   "metadata": {},
   "outputs": [],
   "source": []
  }
 ],
 "metadata": {
  "kernelspec": {
   "display_name": "Python 3",
   "language": "python",
   "name": "python3"
  },
  "language_info": {
   "codemirror_mode": {
    "name": "ipython",
    "version": 3
   },
   "file_extension": ".py",
   "mimetype": "text/x-python",
   "name": "python",
   "nbconvert_exporter": "python",
   "pygments_lexer": "ipython3",
   "version": "3.7.3"
  }
 },
 "nbformat": 4,
 "nbformat_minor": 4
}
